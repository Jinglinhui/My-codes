{
 "cells": [
  {
   "cell_type": "code",
   "execution_count": 7,
   "id": "5f802624",
   "metadata": {},
   "outputs": [
    {
     "name": "stdout",
     "output_type": "stream",
     "text": [
      "Collecting package metadata (current_repodata.json): done\n",
      "Solving environment: done\n",
      "\n",
      "\n",
      "==> WARNING: A newer version of conda exists. <==\n",
      "  current version: 4.10.1\n",
      "  latest version: 4.10.3\n",
      "\n",
      "Please update conda by running\n",
      "\n",
      "    $ conda update -n base -c defaults conda\n",
      "\n",
      "\n",
      "\n",
      "## Package Plan ##\n",
      "\n",
      "  environment location: /opt/anaconda3\n",
      "\n",
      "  added / updated specs:\n",
      "    - xgboost\n",
      "\n",
      "\n",
      "The following packages will be downloaded:\n",
      "\n",
      "    package                    |            build\n",
      "    ---------------------------|-----------------\n",
      "    _py-xgboost-mutex-2.0      |            cpu_0           8 KB  conda-forge\n",
      "    conda-4.10.3               |   py38h50d1736_0         3.1 MB  conda-forge\n",
      "    libxgboost-1.3.3           |       h23ab428_0         1.2 MB\n",
      "    py-xgboost-1.3.3           |   py38hecd8cb5_0         136 KB\n",
      "    python_abi-3.8             |           2_cp38           4 KB  conda-forge\n",
      "    xgboost-1.3.3              |   py38hecd8cb5_0          23 KB\n",
      "    ------------------------------------------------------------\n",
      "                                           Total:         4.4 MB\n",
      "\n",
      "The following NEW packages will be INSTALLED:\n",
      "\n",
      "  _py-xgboost-mutex  conda-forge/osx-64::_py-xgboost-mutex-2.0-cpu_0\n",
      "  libxgboost         pkgs/main/osx-64::libxgboost-1.3.3-h23ab428_0\n",
      "  py-xgboost         pkgs/main/osx-64::py-xgboost-1.3.3-py38hecd8cb5_0\n",
      "  python_abi         conda-forge/osx-64::python_abi-3.8-2_cp38\n",
      "  xgboost            pkgs/main/osx-64::xgboost-1.3.3-py38hecd8cb5_0\n",
      "\n",
      "The following packages will be UPDATED:\n",
      "\n",
      "  conda              pkgs/main::conda-4.10.1-py38hecd8cb5_1 --> conda-forge::conda-4.10.3-py38h50d1736_0\n",
      "\n",
      "\n",
      "\n",
      "Downloading and Extracting Packages\n",
      "py-xgboost-1.3.3     | 136 KB    | ##################################### | 100% \n",
      "libxgboost-1.3.3     | 1.2 MB    | ##################################### | 100% \n",
      "python_abi-3.8       | 4 KB      | ##################################### | 100% \n",
      "_py-xgboost-mutex-2. | 8 KB      | ##################################### | 100% \n",
      "xgboost-1.3.3        | 23 KB     | ##################################### | 100% \n",
      "conda-4.10.3         | 3.1 MB    | ##################################### | 100% \n",
      "Preparing transaction: done\n",
      "Verifying transaction: done\n",
      "Executing transaction: done\n",
      "\n",
      "Note: you may need to restart the kernel to use updated packages.\n"
     ]
    }
   ],
   "source": [
    "conda install -c conda-forge xgboost"
   ]
  },
  {
   "cell_type": "code",
   "execution_count": 2,
   "id": "e0c8d94d",
   "metadata": {},
   "outputs": [],
   "source": [
    "import xgboost as xgb"
   ]
  },
  {
   "cell_type": "code",
   "execution_count": 3,
   "id": "1bf4a200",
   "metadata": {},
   "outputs": [],
   "source": [
    "import pandas as pd\n",
    "import numpy as np\n",
    "import seaborn as sns\n",
    "import matplotlib.pyplot as plt\n",
    "from sklearn.metrics import roc_curve, auc\n",
    "import sklearn.metrics as metrics\n",
    "from sklearn.metrics import confusion_matrix, accuracy_score"
   ]
  },
  {
   "cell_type": "code",
   "execution_count": 4,
   "id": "baac7f54",
   "metadata": {},
   "outputs": [],
   "source": [
    "test_data=pd.read_csv('/Users/jinglinhui/Desktop/Data_analytics_project/log_regression/test.csv')\n",
    "train_data=pd.read_csv('/Users/jinglinhui/Desktop/Data_analytics_project/log_regression/train.csv')"
   ]
  },
  {
   "cell_type": "code",
   "execution_count": 5,
   "id": "44b35492",
   "metadata": {},
   "outputs": [],
   "source": [
    "train_data['Age'] = train_data.groupby(['Pclass', 'Sex'])['Age'].apply(lambda x: x.fillna(x.mean()))\n",
    "train_data[\"Embarked\"].fillna(train_data['Embarked'].value_counts().idxmax(), inplace=True)"
   ]
  },
  {
   "cell_type": "code",
   "execution_count": 6,
   "id": "d5ac8dac",
   "metadata": {},
   "outputs": [],
   "source": [
    "train_data.drop(\"Cabin\", inplace=True, axis=1)\n",
    "train_data.drop(['PassengerId'], axis=1,inplace=True)\n",
    "train_data.drop(\"Name\", inplace=True, axis=1)\n",
    "train_data.drop(\"Ticket\", inplace=True, axis=1)\n"
   ]
  },
  {
   "cell_type": "code",
   "execution_count": 7,
   "id": "7684d4ae",
   "metadata": {},
   "outputs": [
    {
     "data": {
      "text/html": [
       "<div>\n",
       "<style scoped>\n",
       "    .dataframe tbody tr th:only-of-type {\n",
       "        vertical-align: middle;\n",
       "    }\n",
       "\n",
       "    .dataframe tbody tr th {\n",
       "        vertical-align: top;\n",
       "    }\n",
       "\n",
       "    .dataframe thead th {\n",
       "        text-align: right;\n",
       "    }\n",
       "</style>\n",
       "<table border=\"1\" class=\"dataframe\">\n",
       "  <thead>\n",
       "    <tr style=\"text-align: right;\">\n",
       "      <th></th>\n",
       "      <th>Survived</th>\n",
       "      <th>Pclass</th>\n",
       "      <th>Sex</th>\n",
       "      <th>Age</th>\n",
       "      <th>SibSp</th>\n",
       "      <th>Parch</th>\n",
       "      <th>Fare</th>\n",
       "      <th>Embarked</th>\n",
       "      <th>Q</th>\n",
       "      <th>S</th>\n",
       "    </tr>\n",
       "  </thead>\n",
       "  <tbody>\n",
       "    <tr>\n",
       "      <th>0</th>\n",
       "      <td>0</td>\n",
       "      <td>3</td>\n",
       "      <td>1</td>\n",
       "      <td>22.00</td>\n",
       "      <td>1</td>\n",
       "      <td>0</td>\n",
       "      <td>7.2500</td>\n",
       "      <td>S</td>\n",
       "      <td>0</td>\n",
       "      <td>1</td>\n",
       "    </tr>\n",
       "    <tr>\n",
       "      <th>1</th>\n",
       "      <td>1</td>\n",
       "      <td>1</td>\n",
       "      <td>0</td>\n",
       "      <td>38.00</td>\n",
       "      <td>1</td>\n",
       "      <td>0</td>\n",
       "      <td>71.2833</td>\n",
       "      <td>C</td>\n",
       "      <td>0</td>\n",
       "      <td>0</td>\n",
       "    </tr>\n",
       "    <tr>\n",
       "      <th>2</th>\n",
       "      <td>1</td>\n",
       "      <td>3</td>\n",
       "      <td>0</td>\n",
       "      <td>26.00</td>\n",
       "      <td>0</td>\n",
       "      <td>0</td>\n",
       "      <td>7.9250</td>\n",
       "      <td>S</td>\n",
       "      <td>0</td>\n",
       "      <td>1</td>\n",
       "    </tr>\n",
       "    <tr>\n",
       "      <th>3</th>\n",
       "      <td>1</td>\n",
       "      <td>1</td>\n",
       "      <td>0</td>\n",
       "      <td>35.00</td>\n",
       "      <td>1</td>\n",
       "      <td>0</td>\n",
       "      <td>53.1000</td>\n",
       "      <td>S</td>\n",
       "      <td>0</td>\n",
       "      <td>1</td>\n",
       "    </tr>\n",
       "    <tr>\n",
       "      <th>4</th>\n",
       "      <td>0</td>\n",
       "      <td>3</td>\n",
       "      <td>1</td>\n",
       "      <td>35.00</td>\n",
       "      <td>0</td>\n",
       "      <td>0</td>\n",
       "      <td>8.0500</td>\n",
       "      <td>S</td>\n",
       "      <td>0</td>\n",
       "      <td>1</td>\n",
       "    </tr>\n",
       "    <tr>\n",
       "      <th>...</th>\n",
       "      <td>...</td>\n",
       "      <td>...</td>\n",
       "      <td>...</td>\n",
       "      <td>...</td>\n",
       "      <td>...</td>\n",
       "      <td>...</td>\n",
       "      <td>...</td>\n",
       "      <td>...</td>\n",
       "      <td>...</td>\n",
       "      <td>...</td>\n",
       "    </tr>\n",
       "    <tr>\n",
       "      <th>886</th>\n",
       "      <td>0</td>\n",
       "      <td>2</td>\n",
       "      <td>1</td>\n",
       "      <td>27.00</td>\n",
       "      <td>0</td>\n",
       "      <td>0</td>\n",
       "      <td>13.0000</td>\n",
       "      <td>S</td>\n",
       "      <td>0</td>\n",
       "      <td>1</td>\n",
       "    </tr>\n",
       "    <tr>\n",
       "      <th>887</th>\n",
       "      <td>1</td>\n",
       "      <td>1</td>\n",
       "      <td>0</td>\n",
       "      <td>19.00</td>\n",
       "      <td>0</td>\n",
       "      <td>0</td>\n",
       "      <td>30.0000</td>\n",
       "      <td>S</td>\n",
       "      <td>0</td>\n",
       "      <td>1</td>\n",
       "    </tr>\n",
       "    <tr>\n",
       "      <th>888</th>\n",
       "      <td>0</td>\n",
       "      <td>3</td>\n",
       "      <td>0</td>\n",
       "      <td>21.75</td>\n",
       "      <td>1</td>\n",
       "      <td>2</td>\n",
       "      <td>23.4500</td>\n",
       "      <td>S</td>\n",
       "      <td>0</td>\n",
       "      <td>1</td>\n",
       "    </tr>\n",
       "    <tr>\n",
       "      <th>889</th>\n",
       "      <td>1</td>\n",
       "      <td>1</td>\n",
       "      <td>1</td>\n",
       "      <td>26.00</td>\n",
       "      <td>0</td>\n",
       "      <td>0</td>\n",
       "      <td>30.0000</td>\n",
       "      <td>C</td>\n",
       "      <td>0</td>\n",
       "      <td>0</td>\n",
       "    </tr>\n",
       "    <tr>\n",
       "      <th>890</th>\n",
       "      <td>0</td>\n",
       "      <td>3</td>\n",
       "      <td>1</td>\n",
       "      <td>32.00</td>\n",
       "      <td>0</td>\n",
       "      <td>0</td>\n",
       "      <td>7.7500</td>\n",
       "      <td>Q</td>\n",
       "      <td>1</td>\n",
       "      <td>0</td>\n",
       "    </tr>\n",
       "  </tbody>\n",
       "</table>\n",
       "<p>891 rows × 10 columns</p>\n",
       "</div>"
      ],
      "text/plain": [
       "     Survived  Pclass  Sex    Age  SibSp  Parch     Fare Embarked  Q  S\n",
       "0           0       3    1  22.00      1      0   7.2500        S  0  1\n",
       "1           1       1    0  38.00      1      0  71.2833        C  0  0\n",
       "2           1       3    0  26.00      0      0   7.9250        S  0  1\n",
       "3           1       1    0  35.00      1      0  53.1000        S  0  1\n",
       "4           0       3    1  35.00      0      0   8.0500        S  0  1\n",
       "..        ...     ...  ...    ...    ...    ...      ...      ... .. ..\n",
       "886         0       2    1  27.00      0      0  13.0000        S  0  1\n",
       "887         1       1    0  19.00      0      0  30.0000        S  0  1\n",
       "888         0       3    0  21.75      1      2  23.4500        S  0  1\n",
       "889         1       1    1  26.00      0      0  30.0000        C  0  0\n",
       "890         0       3    1  32.00      0      0   7.7500        Q  1  0\n",
       "\n",
       "[891 rows x 10 columns]"
      ]
     },
     "execution_count": 7,
     "metadata": {},
     "output_type": "execute_result"
    }
   ],
   "source": [
    "train_data[\"Sex\"] = train_data[\"Sex\"].map({'male':1, 'female':0})\n",
    "embarked =pd.get_dummies(train_data['Embarked'],drop_first=True)\n",
    "train_data = pd.concat([train_data, embarked], axis=1)\n",
    "train_data"
   ]
  },
  {
   "cell_type": "code",
   "execution_count": 8,
   "id": "769958f2",
   "metadata": {},
   "outputs": [],
   "source": [
    "train_data.drop(\"Embarked\", inplace=True, axis=1)"
   ]
  },
  {
   "cell_type": "code",
   "execution_count": 9,
   "id": "0b8b9b95",
   "metadata": {},
   "outputs": [
    {
     "data": {
      "text/plain": [
       "Survived    0\n",
       "Pclass      0\n",
       "Sex         0\n",
       "Age         0\n",
       "SibSp       0\n",
       "Parch       0\n",
       "Fare        0\n",
       "Q           0\n",
       "S           0\n",
       "dtype: int64"
      ]
     },
     "execution_count": 9,
     "metadata": {},
     "output_type": "execute_result"
    }
   ],
   "source": [
    "train_data.isnull().sum()"
   ]
  },
  {
   "cell_type": "code",
   "execution_count": 10,
   "id": "0da66c20",
   "metadata": {},
   "outputs": [],
   "source": [
    "test_data['Age'] = test_data.groupby(['Pclass', 'Sex'])['Age'].apply(lambda x: x.fillna(x.mean()))\n",
    "test_data[\"Embarked\"].fillna(test_data['Embarked'].value_counts().idxmax(), inplace=True)\n",
    "test_data[\"Sex\"] = test_data[\"Sex\"].map({'male':1, 'female':0})\n",
    "embarked_test = pd.get_dummies(test_data[\"Embarked\"], drop_first=True)\n",
    "test_data = pd.concat([test_data, embarked_test], axis=1)\n",
    "test_data[\"Fare\"].fillna(test_data[\"Fare\"].mean(skipna=True), inplace=True)"
   ]
  },
  {
   "cell_type": "code",
   "execution_count": 11,
   "id": "4c0e21e7",
   "metadata": {},
   "outputs": [],
   "source": [
    "test_data = test_data.drop(['PassengerId'], axis=1)\n",
    "test_data.drop('Cabin', axis=1, inplace=True)\n",
    "test_data.drop(\"Name\", inplace=True, axis=1)\n",
    "test_data.drop(\"Ticket\", inplace=True, axis=1)\n",
    "test_data.drop(\"Embarked\", inplace=True, axis=1)"
   ]
  },
  {
   "cell_type": "code",
   "execution_count": 12,
   "id": "ac240e5d",
   "metadata": {},
   "outputs": [
    {
     "data": {
      "text/plain": [
       "Pclass    0\n",
       "Sex       0\n",
       "Age       0\n",
       "SibSp     0\n",
       "Parch     0\n",
       "Fare      0\n",
       "Q         0\n",
       "S         0\n",
       "dtype: int64"
      ]
     },
     "execution_count": 12,
     "metadata": {},
     "output_type": "execute_result"
    }
   ],
   "source": [
    "test_data.isnull().sum()"
   ]
  },
  {
   "cell_type": "code",
   "execution_count": 13,
   "id": "0ef0b6cc",
   "metadata": {},
   "outputs": [],
   "source": [
    "X_train = train_data.drop(\"Survived\", axis=1)\n",
    "Y_train = train_data[\"Survived\"]"
   ]
  },
  {
   "cell_type": "code",
   "execution_count": 54,
   "id": "fec42cab",
   "metadata": {},
   "outputs": [],
   "source": [
    "data_dmatrix = xgb.DMatrix(data=X_train,label=Y_train)"
   ]
  },
  {
   "cell_type": "code",
   "execution_count": 267,
   "id": "603e0b1b",
   "metadata": {},
   "outputs": [],
   "source": [
    "param_grid = {'eta': [0.1,0.2, 0.3],#'objective':'binary:logistic'\n",
    "              'max_depth': [5, 6, 7],\n",
    "              'colsample_bytree': [0.5,0.7,1],\n",
    "              'objective': \"binary:logistic\",\n",
    "              'eval_metric': \"auc\"\n",
    "             }"
   ]
  },
  {
   "cell_type": "code",
   "execution_count": 268,
   "id": "90a63365",
   "metadata": {},
   "outputs": [
    {
     "name": "stdout",
     "output_type": "stream",
     "text": [
      "['eta', 'max_depth', 'colsample_bytree', 'objective', 'eval_metric']\n"
     ]
    }
   ],
   "source": [
    "import itertools as it\n",
    "parameters = it.product(*(param_grid[title] for title in list(param_grid)))\n",
    "print(list(param_grid))"
   ]
  },
  {
   "cell_type": "code",
   "execution_count": 269,
   "id": "0cf0a607",
   "metadata": {},
   "outputs": [],
   "source": [
    "def cross_validation_split(dataset, folds):\n",
    "        dataset_split = []\n",
    "        fold_size = int(X_train.shape[0] / folds) #number of rows in each fold\n",
    "        ini_index=[0] #start from index 0\n",
    "        remains= fold_size % folds \n",
    "        \n",
    "        \n",
    "        # for loop to save each fold\n",
    "        for i in range(1,remains):\n",
    "            ini_index.append(i*fold_size+1)\n",
    "\n",
    "        for j in range (remains, folds+1):\n",
    "            ini_index.append(j*fold_size+remains)\n",
    "\n",
    "            # save the fold     \n",
    "        for n in range(len(ini_index)-1):\n",
    "            dataset_split.append([ini_index[n], ini_index[n+1]])\n",
    "            \n",
    "        return dataset_split "
   ]
  },
  {
   "cell_type": "code",
   "execution_count": 270,
   "id": "99de186b",
   "metadata": {},
   "outputs": [
    {
     "data": {
      "text/plain": [
       "[[0, 179], [179, 357], [357, 537], [537, 715], [715, 893]]"
      ]
     },
     "execution_count": 270,
     "metadata": {},
     "output_type": "execute_result"
    }
   ],
   "source": [
    "index=cross_validation_split(X_train,5)\n",
    "index"
   ]
  },
  {
   "cell_type": "code",
   "execution_count": 271,
   "id": "7a7221e6",
   "metadata": {},
   "outputs": [],
   "source": [
    "def xg_boost(X_train, Y_train,param,n_round,es_round, k):\n",
    "    index=cross_validation_split(X_train,k)\n",
    "    \n",
    "    br = []\n",
    "    score=[]\n",
    "    for i in range(k):\n",
    "        \n",
    "        cv_xtest = X_train.iloc[index[i][0]:index[i][1],:]\n",
    "        cv_ytest = Y_train.iloc[index[i][0]:index[i][1],]\n",
    "    \n",
    "        cv_xtrain = X_train.drop(X_train.index[index[i][0]:index[i][1]])\n",
    "        cv_ytrain = Y_train.drop(X_train.index[index[i][0]:index[i][1]])\n",
    "        \n",
    "        d_train = xgb.DMatrix(data = cv_xtrain, label = cv_ytrain)\n",
    "        d_test = xgb.DMatrix(data = cv_xtest, label = cv_ytest)\n",
    "        xgb_train = xgb.train(params = param,dtrain = d_train,num_boost_round = n_round,\n",
    "                              early_stopping_rounds = es_round,\n",
    "                              evals=[(d_train,'train'),(d_test, 'test')])\n",
    "        \n",
    "        #use auc to evaluate \n",
    "        #fpr, tpr, threshold = roc_curve(cv_ytest, xgb_train.predict(d_test))\n",
    "        #auc_roc = metrics.auc(fpr, tpr)\n",
    "        #auc.append(auc_roc)\n",
    "        best_round = xgb_train.best_iteration\n",
    "        value = xgb_train.best_score\n",
    "        score.append(value)\n",
    "        br.append(best_round)\n",
    "    \n",
    "    return np.mean(score),np.mean(br),best_round               \n"
   ]
  },
  {
   "cell_type": "code",
   "execution_count": 273,
   "id": "827c7a4d",
   "metadata": {},
   "outputs": [
    {
     "name": "stdout",
     "output_type": "stream",
     "text": [
      "(0.8802215999999999, 142.6, 180) (0.1, 5, 0.5, 'b', 'a')\n"
     ]
    }
   ],
   "source": [
    "sc=[]\n",
    "for i in list(parameters):\n",
    "    param_opt = {'eta': i[0], \n",
    "                 'max_depth': i[1],\n",
    "                 'colsample_bytree': i[2],\n",
    "                 'objective':'binary:logistic',\n",
    "                 'eval_metric' : 'auc'\n",
    "                }\n",
    "    best_round = xg_boost(X_train, Y_train,param_opt, 2000, 50,5)\n",
    "    sc.append(best_round)\n",
    "    \n",
    "print(best_round,i)"
   ]
  },
  {
   "cell_type": "code",
   "execution_count": 274,
   "id": "b7e11deb",
   "metadata": {},
   "outputs": [],
   "source": [
    "best_param = {'objective':'binary:logistic','eta': 0.1,'max_depth': 5, 'colsample_bytree': 0.5,'eval_metric':'auc'}"
   ]
  },
  {
   "cell_type": "code",
   "execution_count": 275,
   "id": "68f68a5b",
   "metadata": {},
   "outputs": [],
   "source": [
    "xg_reg = xgb.train(params=best_param, dtrain=data_dmatrix, num_boost_round=180)"
   ]
  },
  {
   "cell_type": "code",
   "execution_count": 276,
   "id": "fd24eec1",
   "metadata": {},
   "outputs": [],
   "source": [
    "pred=xg_reg.predict(data_dmatrix)\n",
    "test_matrix= xgb.DMatrix(test_data)\n",
    "ypreds_proba = xg_reg.predict(test_matrix)"
   ]
  },
  {
   "cell_type": "code",
   "execution_count": 277,
   "id": "be7d6d4b",
   "metadata": {},
   "outputs": [
    {
     "name": "stderr",
     "output_type": "stream",
     "text": [
      "No handles with labels found to put in legend.\n"
     ]
    },
    {
     "data": {
      "image/png": "[encoded data removed]",
      "text/plain": [
       "<Figure size 360x360 with 1 Axes>"
      ]
     },
     "metadata": {
      "needs_background": "light"
     },
     "output_type": "display_data"
    }
   ],
   "source": [
    "[fpr, tpr, thr]= roc_curve(Y_train,pred)\n",
    "plt.figure()\n",
    "plt.plot(fpr, tpr)\n",
    "plt.plot([0, 1], [0, 1],'r--')\n",
    "plt.xlim([0.0, 1.0])\n",
    "plt.ylim([0.0, 1.05])\n",
    "plt.xlabel('False Positive Rate')\n",
    "plt.ylabel('True Positive Rate')\n",
    "plt.title('Receiver operating characteristic')\n",
    "plt.legend(loc=\"lower right\")\n",
    "plt.show()"
   ]
  },
  {
   "cell_type": "code",
   "execution_count": 278,
   "id": "4b9fd542",
   "metadata": {},
   "outputs": [
    {
     "name": "stdout",
     "output_type": "stream",
     "text": [
      "AUC: 0.969\n"
     ]
    }
   ],
   "source": [
    "print(\"AUC: %2.3f\" % auc(fpr, tpr))"
   ]
  },
  {
   "cell_type": "code",
   "execution_count": 279,
   "id": "98f7d528",
   "metadata": {},
   "outputs": [
    {
     "data": {
      "image/png": "[encoded data removed]",
      "text/plain": [
       "<Figure size 360x360 with 1 Axes>"
      ]
     },
     "metadata": {
      "needs_background": "light"
     },
     "output_type": "display_data"
    }
   ],
   "source": [
    "xgb.plot_importance(xg_reg)\n",
    "plt.rcParams['figure.figsize'] = [5, 5]\n",
    "plt.show()"
   ]
  },
  {
   "cell_type": "code",
   "execution_count": 280,
   "id": "c5311dca",
   "metadata": {},
   "outputs": [
    {
     "data": {
      "text/html": [
       "<div>\n",
       "<style scoped>\n",
       "    .dataframe tbody tr th:only-of-type {\n",
       "        vertical-align: middle;\n",
       "    }\n",
       "\n",
       "    .dataframe tbody tr th {\n",
       "        vertical-align: top;\n",
       "    }\n",
       "\n",
       "    .dataframe thead th {\n",
       "        text-align: right;\n",
       "    }\n",
       "</style>\n",
       "<table border=\"1\" class=\"dataframe\">\n",
       "  <thead>\n",
       "    <tr style=\"text-align: right;\">\n",
       "      <th></th>\n",
       "      <th>survival_probability</th>\n",
       "    </tr>\n",
       "  </thead>\n",
       "  <tbody>\n",
       "    <tr>\n",
       "      <th>0</th>\n",
       "      <td>0.050769</td>\n",
       "    </tr>\n",
       "    <tr>\n",
       "      <th>1</th>\n",
       "      <td>0.989268</td>\n",
       "    </tr>\n",
       "    <tr>\n",
       "      <th>2</th>\n",
       "      <td>0.510405</td>\n",
       "    </tr>\n",
       "    <tr>\n",
       "      <th>3</th>\n",
       "      <td>0.994945</td>\n",
       "    </tr>\n",
       "    <tr>\n",
       "      <th>4</th>\n",
       "      <td>0.103478</td>\n",
       "    </tr>\n",
       "    <tr>\n",
       "      <th>...</th>\n",
       "      <td>...</td>\n",
       "    </tr>\n",
       "    <tr>\n",
       "      <th>886</th>\n",
       "      <td>0.196239</td>\n",
       "    </tr>\n",
       "    <tr>\n",
       "      <th>887</th>\n",
       "      <td>0.982270</td>\n",
       "    </tr>\n",
       "    <tr>\n",
       "      <th>888</th>\n",
       "      <td>0.184052</td>\n",
       "    </tr>\n",
       "    <tr>\n",
       "      <th>889</th>\n",
       "      <td>0.755916</td>\n",
       "    </tr>\n",
       "    <tr>\n",
       "      <th>890</th>\n",
       "      <td>0.114092</td>\n",
       "    </tr>\n",
       "  </tbody>\n",
       "</table>\n",
       "<p>891 rows × 1 columns</p>\n",
       "</div>"
      ],
      "text/plain": [
       "     survival_probability\n",
       "0                0.050769\n",
       "1                0.989268\n",
       "2                0.510405\n",
       "3                0.994945\n",
       "4                0.103478\n",
       "..                    ...\n",
       "886              0.196239\n",
       "887              0.982270\n",
       "888              0.184052\n",
       "889              0.755916\n",
       "890              0.114092\n",
       "\n",
       "[891 rows x 1 columns]"
      ]
     },
     "execution_count": 280,
     "metadata": {},
     "output_type": "execute_result"
    }
   ],
   "source": [
    "train_proba = pd.DataFrame({'survival_probability' : pred})\n",
    "train_proba"
   ]
  },
  {
   "cell_type": "code",
   "execution_count": 286,
   "id": "36915728",
   "metadata": {},
   "outputs": [
    {
     "name": "stdout",
     "output_type": "stream",
     "text": [
      "0.9 0.7890011223344556\n",
      "0.9 1.0\n",
      "0.9 0.7809388335704125\n"
     ]
    }
   ],
   "source": [
    "acc=[]\n",
    "pre=[]\n",
    "rec=[]\n",
    "for i in np.arange(0, 1,0.1):\n",
    "    def filter_prob(p):\n",
    "        if p['survival_probability'] >= i:\n",
    "            return \"1\"\n",
    "        else:\n",
    "            return \"0\"\n",
    "    train_proba['Survived_predict']= train_proba.apply(filter_prob,axis=1)\n",
    "    #print(train_proba.Survived_predict)\n",
    "    #print(Y_train)\n",
    "    cm = confusion_matrix(Y_train,train_proba.Survived_predict.astype('int'))\n",
    "    #Accuracy (all correct / all) = TP + TN /all\n",
    "    accuracy = (cm[0][0]+cm[1][1])/891\n",
    "    #print(accuracy)\n",
    "    #precision =TP/(TP+FP)\n",
    "    precision=cm[0][0]/(cm[0][0]+cm[0][1])\n",
    "    #recall=TP/(TP+FN)\n",
    "    recall=cm[0][0]/(cm[0][0]+cm[1][1])\n",
    "    acc.append(accuracy)\n",
    "    pre.append(pre)\n",
    "    rec.append(recall)\n",
    "    \n",
    "print(i,accuracy.max())\n",
    "print(i,precision.max())\n",
    "print(i,recall.max())"
   ]
  },
  {
   "cell_type": "code",
   "execution_count": 234,
   "id": "754eb36b",
   "metadata": {},
   "outputs": [
    {
     "data": {
      "text/html": [
       "<div>\n",
       "<style scoped>\n",
       "    .dataframe tbody tr th:only-of-type {\n",
       "        vertical-align: middle;\n",
       "    }\n",
       "\n",
       "    .dataframe tbody tr th {\n",
       "        vertical-align: top;\n",
       "    }\n",
       "\n",
       "    .dataframe thead th {\n",
       "        text-align: right;\n",
       "    }\n",
       "</style>\n",
       "<table border=\"1\" class=\"dataframe\">\n",
       "  <thead>\n",
       "    <tr style=\"text-align: right;\">\n",
       "      <th></th>\n",
       "      <th>test_survive_probability</th>\n",
       "    </tr>\n",
       "  </thead>\n",
       "  <tbody>\n",
       "    <tr>\n",
       "      <th>0</th>\n",
       "      <td>0.186437</td>\n",
       "    </tr>\n",
       "    <tr>\n",
       "      <th>1</th>\n",
       "      <td>0.379891</td>\n",
       "    </tr>\n",
       "    <tr>\n",
       "      <th>2</th>\n",
       "      <td>0.238375</td>\n",
       "    </tr>\n",
       "    <tr>\n",
       "      <th>3</th>\n",
       "      <td>0.188411</td>\n",
       "    </tr>\n",
       "    <tr>\n",
       "      <th>4</th>\n",
       "      <td>0.676035</td>\n",
       "    </tr>\n",
       "    <tr>\n",
       "      <th>...</th>\n",
       "      <td>...</td>\n",
       "    </tr>\n",
       "    <tr>\n",
       "      <th>413</th>\n",
       "      <td>0.188411</td>\n",
       "    </tr>\n",
       "    <tr>\n",
       "      <th>414</th>\n",
       "      <td>0.847625</td>\n",
       "    </tr>\n",
       "    <tr>\n",
       "      <th>415</th>\n",
       "      <td>0.186437</td>\n",
       "    </tr>\n",
       "    <tr>\n",
       "      <th>416</th>\n",
       "      <td>0.188411</td>\n",
       "    </tr>\n",
       "    <tr>\n",
       "      <th>417</th>\n",
       "      <td>0.280897</td>\n",
       "    </tr>\n",
       "  </tbody>\n",
       "</table>\n",
       "<p>418 rows × 1 columns</p>\n",
       "</div>"
      ],
      "text/plain": [
       "     test_survive_probability\n",
       "0                    0.186437\n",
       "1                    0.379891\n",
       "2                    0.238375\n",
       "3                    0.188411\n",
       "4                    0.676035\n",
       "..                        ...\n",
       "413                  0.188411\n",
       "414                  0.847625\n",
       "415                  0.186437\n",
       "416                  0.188411\n",
       "417                  0.280897\n",
       "\n",
       "[418 rows x 1 columns]"
      ]
     },
     "execution_count": 234,
     "metadata": {},
     "output_type": "execute_result"
    }
   ],
   "source": [
    "test_table = pd.DataFrame({'test_survive_probability' : ypreds_proba})\n",
    "test_table"
   ]
  },
  {
   "cell_type": "code",
   "execution_count": 287,
   "id": "fedc3573",
   "metadata": {},
   "outputs": [],
   "source": [
    "def filter_prob(p):\n",
    "        if p['test_survive_probability'] >= 0.9:\n",
    "            return \"1\"\n",
    "        else:\n",
    "            return \"0\"\n",
    "test_table['Survived_predict']= test_table.apply(filter_prob,axis=1)"
   ]
  },
  {
   "cell_type": "code",
   "execution_count": 288,
   "id": "9002c498",
   "metadata": {},
   "outputs": [
    {
     "data": {
      "text/html": [
       "<div>\n",
       "<style scoped>\n",
       "    .dataframe tbody tr th:only-of-type {\n",
       "        vertical-align: middle;\n",
       "    }\n",
       "\n",
       "    .dataframe tbody tr th {\n",
       "        vertical-align: top;\n",
       "    }\n",
       "\n",
       "    .dataframe thead th {\n",
       "        text-align: right;\n",
       "    }\n",
       "</style>\n",
       "<table border=\"1\" class=\"dataframe\">\n",
       "  <thead>\n",
       "    <tr style=\"text-align: right;\">\n",
       "      <th></th>\n",
       "      <th>test_survive_probability</th>\n",
       "      <th>Survived_predict</th>\n",
       "    </tr>\n",
       "  </thead>\n",
       "  <tbody>\n",
       "    <tr>\n",
       "      <th>0</th>\n",
       "      <td>0.186437</td>\n",
       "      <td>0</td>\n",
       "    </tr>\n",
       "    <tr>\n",
       "      <th>1</th>\n",
       "      <td>0.379891</td>\n",
       "      <td>0</td>\n",
       "    </tr>\n",
       "    <tr>\n",
       "      <th>2</th>\n",
       "      <td>0.238375</td>\n",
       "      <td>0</td>\n",
       "    </tr>\n",
       "    <tr>\n",
       "      <th>3</th>\n",
       "      <td>0.188411</td>\n",
       "      <td>0</td>\n",
       "    </tr>\n",
       "    <tr>\n",
       "      <th>4</th>\n",
       "      <td>0.676035</td>\n",
       "      <td>0</td>\n",
       "    </tr>\n",
       "    <tr>\n",
       "      <th>...</th>\n",
       "      <td>...</td>\n",
       "      <td>...</td>\n",
       "    </tr>\n",
       "    <tr>\n",
       "      <th>413</th>\n",
       "      <td>0.188411</td>\n",
       "      <td>0</td>\n",
       "    </tr>\n",
       "    <tr>\n",
       "      <th>414</th>\n",
       "      <td>0.847625</td>\n",
       "      <td>0</td>\n",
       "    </tr>\n",
       "    <tr>\n",
       "      <th>415</th>\n",
       "      <td>0.186437</td>\n",
       "      <td>0</td>\n",
       "    </tr>\n",
       "    <tr>\n",
       "      <th>416</th>\n",
       "      <td>0.188411</td>\n",
       "      <td>0</td>\n",
       "    </tr>\n",
       "    <tr>\n",
       "      <th>417</th>\n",
       "      <td>0.280897</td>\n",
       "      <td>0</td>\n",
       "    </tr>\n",
       "  </tbody>\n",
       "</table>\n",
       "<p>418 rows × 2 columns</p>\n",
       "</div>"
      ],
      "text/plain": [
       "     test_survive_probability Survived_predict\n",
       "0                    0.186437                0\n",
       "1                    0.379891                0\n",
       "2                    0.238375                0\n",
       "3                    0.188411                0\n",
       "4                    0.676035                0\n",
       "..                        ...              ...\n",
       "413                  0.188411                0\n",
       "414                  0.847625                0\n",
       "415                  0.186437                0\n",
       "416                  0.188411                0\n",
       "417                  0.280897                0\n",
       "\n",
       "[418 rows x 2 columns]"
      ]
     },
     "execution_count": 288,
     "metadata": {},
     "output_type": "execute_result"
    }
   ],
   "source": [
    "test_table"
   ]
  },
  {
   "cell_type": "code",
   "execution_count": null,
   "id": "ba931caf",
   "metadata": {},
   "outputs": [],
   "source": []
  },
  {
   "cell_type": "code",
   "execution_count": null,
   "id": "9de4b3d5",
   "metadata": {},
   "outputs": [],
   "source": []
  }
 ],
 "metadata": {
  "kernelspec": {
   "display_name": "Python 3",
   "language": "python",
   "name": "python3"
  },
  "language_info": {
   "codemirror_mode": {
    "name": "ipython",
    "version": 3
   },
   "file_extension": ".py",
   "mimetype": "text/x-python",
   "name": "python",
   "nbconvert_exporter": "python",
   "pygments_lexer": "ipython3",
   "version": "3.8.8"
  }
 },
 "nbformat": 4,
 "nbformat_minor": 5
}
